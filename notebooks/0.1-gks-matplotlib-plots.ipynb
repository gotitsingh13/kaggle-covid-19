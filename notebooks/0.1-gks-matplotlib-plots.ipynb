{
 "cells": [
  {
   "cell_type": "code",
   "execution_count": null,
   "metadata": {},
   "outputs": [],
   "source": [
    "from matplotlib import pyplot as plt"
   ]
  },
  {
   "cell_type": "code",
   "execution_count": 15,
   "metadata": {},
   "outputs": [],
   "source": [
    "def create_bar_plot(value_dictionary, suptitle=\"Publication distribution\", title=\"sample\", figsize=(10, 6), \n",
    "                    save=False, save_folder=None):\n",
    "    assert save == bool(save_folder), \"Do provide the folder path\"\n",
    "    fig = plt.figure(figsize=figsize)\n",
    "    fig.suptitle(suptitle, fontsize=16)\n",
    "    ax = fig.add_subplot(111, title=\"Author: {}\".format(title))\n",
    "    \n",
    "    bar_chart = ax.bar(*zip(*value_dictionary.items()))\n",
    "    ax.set_xlabel('author position order')\n",
    "    \n",
    "    def autolabel(rects):\n",
    "        \"\"\"\n",
    "        Attach a text label above each bar displaying its height\n",
    "        \"\"\"\n",
    "        for rect in rects:\n",
    "            height = rect.get_height()\n",
    "            ax.text(rect.get_x() + rect.get_width()/2., 1.05*height, '%d' % int(height),\n",
    "                    ha='center', va='bottom')\n",
    "\n",
    "    autolabel(bar_chart)\n",
    "    \n",
    "    \n",
    "    if save:\n",
    "        if not save_folder.endswith(\"/\"):\n",
    "            save_folder += \"/\"\n",
    "        plt.savefig(save_folder + \"{}-{}.png\".format(suptitle, title))\n",
    "        plt.close()\n",
    "    \n",
    "    else:\n",
    "        return plt"
   ]
  },
  {
   "cell_type": "code",
   "execution_count": null,
   "metadata": {},
   "outputs": [],
   "source": []
  }
 ],
 "metadata": {
  "kernelspec": {
   "display_name": "Python 3",
   "language": "python",
   "name": "python3"
  },
  "language_info": {
   "codemirror_mode": {
    "name": "ipython",
    "version": 3
   },
   "file_extension": ".py",
   "mimetype": "text/x-python",
   "name": "python",
   "nbconvert_exporter": "python",
   "pygments_lexer": "ipython3",
   "version": "3.8.1"
  }
 },
 "nbformat": 4,
 "nbformat_minor": 4
}
