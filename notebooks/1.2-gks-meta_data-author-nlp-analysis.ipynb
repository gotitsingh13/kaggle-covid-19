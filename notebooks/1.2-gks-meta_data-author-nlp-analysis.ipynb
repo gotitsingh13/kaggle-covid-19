{
 "cells": [
  {
   "cell_type": "code",
   "execution_count": 3,
   "metadata": {},
   "outputs": [],
   "source": [
    "%run ./0.0-gks-utility-functions.ipynb\n",
    "%run ./0.1-gks-matplotlib-plots.ipynb"
   ]
  },
  {
   "cell_type": "code",
   "execution_count": 5,
   "metadata": {},
   "outputs": [],
   "source": [
    "import os\n",
    "\n",
    "files = os.listdir(DATA_INTERIM)"
   ]
  },
  {
   "cell_type": "code",
   "execution_count": 8,
   "metadata": {},
   "outputs": [],
   "source": [
    "meta_data_files = [x for x in files if x[0:10]==\"meta_data_\" and x.endswith(\".csv\")]"
   ]
  },
  {
   "cell_type": "code",
   "execution_count": 10,
   "metadata": {},
   "outputs": [
    {
     "name": "stdout",
     "output_type": "stream",
     "text": [
      "Kwargs:  {}\n",
      "DataFrame Size: (176, 8)\n",
      "DataFrame Columns: Index(['cord_uid', 'source_x', 'title', 'abstract', 'authors', 'has_pdf_parse',\n",
      "       'has_pmc_xml_parse', 'full_text_file'],\n",
      "      dtype='object')\n"
     ]
    },
    {
     "data": {
      "text/html": [
       "<div>\n",
       "<style scoped>\n",
       "    .dataframe tbody tr th:only-of-type {\n",
       "        vertical-align: middle;\n",
       "    }\n",
       "\n",
       "    .dataframe tbody tr th {\n",
       "        vertical-align: top;\n",
       "    }\n",
       "\n",
       "    .dataframe thead th {\n",
       "        text-align: right;\n",
       "    }\n",
       "</style>\n",
       "<table border=\"1\" class=\"dataframe\">\n",
       "  <thead>\n",
       "    <tr style=\"text-align: right;\">\n",
       "      <th></th>\n",
       "      <th>cord_uid</th>\n",
       "      <th>source_x</th>\n",
       "      <th>title</th>\n",
       "      <th>abstract</th>\n",
       "      <th>authors</th>\n",
       "      <th>has_pdf_parse</th>\n",
       "      <th>has_pmc_xml_parse</th>\n",
       "      <th>full_text_file</th>\n",
       "    </tr>\n",
       "  </thead>\n",
       "  <tbody>\n",
       "    <tr>\n",
       "      <th>0</th>\n",
       "      <td>laawgrxl</td>\n",
       "      <td>PMC</td>\n",
       "      <td>Transmission Pathways of Foot-and-Mouth Diseas...</td>\n",
       "      <td>Foot-and-mouth disease (FMD) virus causes an a...</td>\n",
       "      <td>Cottam, Eleanor M.; Wadsworth, Jemma; Shaw, An...</td>\n",
       "      <td>True</td>\n",
       "      <td>True</td>\n",
       "      <td>comm_use_subset</td>\n",
       "    </tr>\n",
       "    <tr>\n",
       "      <th>1</th>\n",
       "      <td>5ns2t5i2</td>\n",
       "      <td>PMC</td>\n",
       "      <td>Safety and immunogenicity of an MF59™-adjuvant...</td>\n",
       "      <td>BACKGROUND: The safety and immunogenicity of a...</td>\n",
       "      <td>Li, Rongcheng; Fang, Hanhua; Li, Yanping; Liu,...</td>\n",
       "      <td>True</td>\n",
       "      <td>True</td>\n",
       "      <td>comm_use_subset</td>\n",
       "    </tr>\n",
       "    <tr>\n",
       "      <th>2</th>\n",
       "      <td>4tmqx6wr</td>\n",
       "      <td>PMC</td>\n",
       "      <td>Antibodies to Nipah or Nipah-like Viruses in B...</td>\n",
       "      <td>NaN</td>\n",
       "      <td>Li, Yan; Wang, Jianmin; Hickey, Andrew C.; Zha...</td>\n",
       "      <td>True</td>\n",
       "      <td>True</td>\n",
       "      <td>custom_license</td>\n",
       "    </tr>\n",
       "    <tr>\n",
       "      <th>3</th>\n",
       "      <td>ursd3h22</td>\n",
       "      <td>PMC</td>\n",
       "      <td>Human Influenza A (H5N1) Cases, Urban Areas of...</td>\n",
       "      <td>We investigated potential sources of infection...</td>\n",
       "      <td>Yu, Hongjie; Feng, Zijian; Zhang, Xianfeng; Xi...</td>\n",
       "      <td>True</td>\n",
       "      <td>True</td>\n",
       "      <td>custom_license</td>\n",
       "    </tr>\n",
       "    <tr>\n",
       "      <th>4</th>\n",
       "      <td>9vpzk6wu</td>\n",
       "      <td>PMC</td>\n",
       "      <td>Profiling of cellular proteins in porcine repr...</td>\n",
       "      <td>BACKGROUND: Porcine reproductive and respirato...</td>\n",
       "      <td>Zhang, Chengwen; Xue, Chunyi; Li, Yan; Kong, Q...</td>\n",
       "      <td>True</td>\n",
       "      <td>True</td>\n",
       "      <td>comm_use_subset</td>\n",
       "    </tr>\n",
       "    <tr>\n",
       "      <th>...</th>\n",
       "      <td>...</td>\n",
       "      <td>...</td>\n",
       "      <td>...</td>\n",
       "      <td>...</td>\n",
       "      <td>...</td>\n",
       "      <td>...</td>\n",
       "      <td>...</td>\n",
       "      <td>...</td>\n",
       "    </tr>\n",
       "    <tr>\n",
       "      <th>171</th>\n",
       "      <td>76ia62hl</td>\n",
       "      <td>Elsevier</td>\n",
       "      <td>Characterization of protein–protein interactio...</td>\n",
       "      <td>Abstract The human coronavirus, associated wit...</td>\n",
       "      <td>He, Runtao; Leeson, Andrew; Ballantine, Meliss...</td>\n",
       "      <td>True</td>\n",
       "      <td>False</td>\n",
       "      <td>custom_license</td>\n",
       "    </tr>\n",
       "    <tr>\n",
       "      <th>172</th>\n",
       "      <td>jv5wyup8</td>\n",
       "      <td>Elsevier</td>\n",
       "      <td>Production of a monoclonal antibody against SA...</td>\n",
       "      <td>Abstract Severe acute respiratory syndrome (SA...</td>\n",
       "      <td>Yu, Xiao Fei; Liang, Lin Hui; She, Ming; Liao,...</td>\n",
       "      <td>True</td>\n",
       "      <td>False</td>\n",
       "      <td>custom_license</td>\n",
       "    </tr>\n",
       "    <tr>\n",
       "      <th>173</th>\n",
       "      <td>dtwuav65</td>\n",
       "      <td>Elsevier</td>\n",
       "      <td>A novel pyrosequencing assay for the detection...</td>\n",
       "      <td>Abstract A novel reassortant avian influenza A...</td>\n",
       "      <td>Qi, Yuhua; Fan, Huan; Qi, Xian; Zhu, Zheng; Gu...</td>\n",
       "      <td>True</td>\n",
       "      <td>False</td>\n",
       "      <td>custom_license</td>\n",
       "    </tr>\n",
       "    <tr>\n",
       "      <th>174</th>\n",
       "      <td>i738t9lf</td>\n",
       "      <td>PMC</td>\n",
       "      <td>Genome Organization of the SARS-CoV</td>\n",
       "      <td>Annotation of the genome sequence of the SARS-...</td>\n",
       "      <td>Xu, Jing; Hu, Jianfei; Wang, Jing; Han, Yujun;...</td>\n",
       "      <td>True</td>\n",
       "      <td>True</td>\n",
       "      <td>noncomm_use_subset</td>\n",
       "    </tr>\n",
       "    <tr>\n",
       "      <th>175</th>\n",
       "      <td>rnaktik9</td>\n",
       "      <td>Elsevier</td>\n",
       "      <td>Structural model of the SARS coronavirus E cha...</td>\n",
       "      <td>Abstract Coronaviruses (CoV) cause common cold...</td>\n",
       "      <td>Surya, Wahyu; Li, Yan; Torres, Jaume</td>\n",
       "      <td>True</td>\n",
       "      <td>False</td>\n",
       "      <td>custom_license</td>\n",
       "    </tr>\n",
       "  </tbody>\n",
       "</table>\n",
       "<p>176 rows × 8 columns</p>\n",
       "</div>"
      ],
      "text/plain": [
       "     cord_uid  source_x                                              title  \\\n",
       "0    laawgrxl       PMC  Transmission Pathways of Foot-and-Mouth Diseas...   \n",
       "1    5ns2t5i2       PMC  Safety and immunogenicity of an MF59™-adjuvant...   \n",
       "2    4tmqx6wr       PMC  Antibodies to Nipah or Nipah-like Viruses in B...   \n",
       "3    ursd3h22       PMC  Human Influenza A (H5N1) Cases, Urban Areas of...   \n",
       "4    9vpzk6wu       PMC  Profiling of cellular proteins in porcine repr...   \n",
       "..        ...       ...                                                ...   \n",
       "171  76ia62hl  Elsevier  Characterization of protein–protein interactio...   \n",
       "172  jv5wyup8  Elsevier  Production of a monoclonal antibody against SA...   \n",
       "173  dtwuav65  Elsevier  A novel pyrosequencing assay for the detection...   \n",
       "174  i738t9lf       PMC                Genome Organization of the SARS-CoV   \n",
       "175  rnaktik9  Elsevier  Structural model of the SARS coronavirus E cha...   \n",
       "\n",
       "                                              abstract  \\\n",
       "0    Foot-and-mouth disease (FMD) virus causes an a...   \n",
       "1    BACKGROUND: The safety and immunogenicity of a...   \n",
       "2                                                  NaN   \n",
       "3    We investigated potential sources of infection...   \n",
       "4    BACKGROUND: Porcine reproductive and respirato...   \n",
       "..                                                 ...   \n",
       "171  Abstract The human coronavirus, associated wit...   \n",
       "172  Abstract Severe acute respiratory syndrome (SA...   \n",
       "173  Abstract A novel reassortant avian influenza A...   \n",
       "174  Annotation of the genome sequence of the SARS-...   \n",
       "175  Abstract Coronaviruses (CoV) cause common cold...   \n",
       "\n",
       "                                               authors  has_pdf_parse  \\\n",
       "0    Cottam, Eleanor M.; Wadsworth, Jemma; Shaw, An...           True   \n",
       "1    Li, Rongcheng; Fang, Hanhua; Li, Yanping; Liu,...           True   \n",
       "2    Li, Yan; Wang, Jianmin; Hickey, Andrew C.; Zha...           True   \n",
       "3    Yu, Hongjie; Feng, Zijian; Zhang, Xianfeng; Xi...           True   \n",
       "4    Zhang, Chengwen; Xue, Chunyi; Li, Yan; Kong, Q...           True   \n",
       "..                                                 ...            ...   \n",
       "171  He, Runtao; Leeson, Andrew; Ballantine, Meliss...           True   \n",
       "172  Yu, Xiao Fei; Liang, Lin Hui; She, Ming; Liao,...           True   \n",
       "173  Qi, Yuhua; Fan, Huan; Qi, Xian; Zhu, Zheng; Gu...           True   \n",
       "174  Xu, Jing; Hu, Jianfei; Wang, Jing; Han, Yujun;...           True   \n",
       "175               Surya, Wahyu; Li, Yan; Torres, Jaume           True   \n",
       "\n",
       "     has_pmc_xml_parse      full_text_file  \n",
       "0                 True     comm_use_subset  \n",
       "1                 True     comm_use_subset  \n",
       "2                 True      custom_license  \n",
       "3                 True      custom_license  \n",
       "4                 True     comm_use_subset  \n",
       "..                 ...                 ...  \n",
       "171              False      custom_license  \n",
       "172              False      custom_license  \n",
       "173              False      custom_license  \n",
       "174               True  noncomm_use_subset  \n",
       "175              False      custom_license  \n",
       "\n",
       "[176 rows x 8 columns]"
      ]
     },
     "execution_count": 10,
     "metadata": {},
     "output_type": "execute_result"
    }
   ],
   "source": [
    "detail_csv_file(DATA_INTERIM + meta_data_files[0])"
   ]
  },
  {
   "cell_type": "markdown",
   "metadata": {},
   "source": [
    "# NLP Analysis"
   ]
  },
  {
   "cell_type": "code",
   "execution_count": 12,
   "metadata": {},
   "outputs": [
    {
     "name": "stdout",
     "output_type": "stream",
     "text": [
      "Kwargs:  {}\n",
      "DataFrame Size: (176, 8)\n",
      "DataFrame Columns: Index(['cord_uid', 'source_x', 'title', 'abstract', 'authors', 'has_pdf_parse',\n",
      "       'has_pmc_xml_parse', 'full_text_file'],\n",
      "      dtype='object')\n"
     ]
    }
   ],
   "source": [
    "d = detail_csv_file(DATA_INTERIM + meta_data_files[0])\n",
    "corpus = d.title.tolist()\n"
   ]
  },
  {
   "cell_type": "code",
   "execution_count": 13,
   "metadata": {
    "scrolled": true
   },
   "outputs": [
    {
     "name": "stdout",
     "output_type": "stream",
     "text": [
      "['10', '109', '13', '14', '145', '15', '18', '19', '1β', '2005', '2006', '2007', '2008', '2009', '2015', '2017', '2019', '47', '63', '795', '90β', 'abbreviation', 'abu', 'ace2', 'acetyl', 'acid', 'acids', 'acquired', 'action', 'activation', 'activities', 'activity', 'acute', 'additional', 'adenovirus', 'adenoviruses', 'adjuvant', 'adjuvanted', 'adult', 'af', 'african', 'after', 'against', 'age', 'alberta', 'allele', 'along', 'alphavirus', 'alteration', 'altered', 'ameliorates', 'america', 'among', 'amplification', 'an', 'analyses', 'analysis', 'anchorless', 'and', 'angiogenic', 'angiotensin', 'ankara', 'antagonist', 'antenna', 'anti', 'antibodies', 'antibody', 'anticancer', 'antigens', 'antimicrobial', 'antiviral', 'antivirals', 'ap', 'apoptosis', 'apoptotic', 'application', 'applications', 'applied', 'approach', 'arab', 'arabia', 'areas', 'array', 'arrest', 'arteritis', 'arterivirus', 'artistic', 'as', 'aspua', 'assay', 'assays', 'assembled', 'assisted', 'associated', 'association', 'astrocytes', 'asymptomatic', 'asynchronously', 'attenuate', 'attenuated', 'attenuates', 'atypical', 'automatic', 'autophagy', 'avian', 'axis', 'bacillus', 'bacteria', 'bacterium', 'band', 'base', 'based', 'basic', 'basis', 'bat', 'bats', 'bcl', 'beijing', 'beta', 'between', 'biased', 'bicelle', 'big', 'binding', 'binds', 'bioactivity', 'biology', 'biomedical', 'biotinylated', 'birds', 'bj', 'bj01', 'bj04', 'bleomycin', 'block', 'blocking', 'blot', 'bocavirus', 'botanical', 'both', 'bound', 'broadly', 'bronchitis', 'building', 'bx', 'by', 'c41', 'c5a', 'camels', 'canada', 'canadian', 'cancer', 'care', 'case', 'cases', 'cathepsin', 'causing', 'cd26', 'cd4', 'cd8', 'cell', 'cells', 'cellular', 'chain', 'channel', 'channels', 'characterisation', 'characteristics', 'characterization', 'chest', 'children', 'china', 'chinese', 'chlorine', 'chondroitin', 'chop', 'chronic', 'circular', 'circulating', 'cities', 'clinical', 'close', 'closed', 'cluster', 'co', 'coating', 'codon', 'coli', 'collected', 'combined', 'communication', 'community', 'comparative', 'complement', 'complete', 'complex', 'compound', 'comprehensive', 'confer', 'conferring', 'confiscations', 'conjugate', 'conservation', 'conserved', 'construction', 'contacts', 'containing', 'contemporaneous', 'contributes', 'control', 'converting', 'coordinated', 'copper', 'core', 'coronavirus', 'coronaviruses', 'correlate', 'cortical', 'cov', 'covid', 'cpg', 'cross', 'crystal', 'ct', 'culture', 'cxcl9', 'cycle', 'cyclodextrin', 'cyclophilin', 'cytokines', 'cytotoxic', 'damage', 'dampened', 'data', 'decontamination', 'decorated', 'decreased', 'defense', 'defensin', 'definition', 'deletion', 'delhi', 'delineating', 'delivery', 'deltacoronavirus', 'dependent', 'depletion', 'deployable', 'derivatives', 'derived', 'design', 'detect', 'detection', 'deubiquitinase', 'development', 'dhabi', 'diagnosis', 'diagnostic', 'diarrhea', 'different', 'dioxide', 'discovery', 'disease', 'diseases', 'disorder', 'dissection', 'distinct', 'distribution', 'disturbance', 'diverse', 'diversity', 'dna', 'does', 'domain', 'dominant', 'donors', 'dorsal', 'dose', 'dot', 'dr', 'dromedary', 'drug', 'drugs', 'dual', 'due', 'duplex', 'during', 'dynamics', 'early', 'east', 'eastern', 'effect', 'effective', 'effects', 'efficient', 'efficiently', 'eif2α', 'eight', 'elderly', 'elicit', 'elisa', 'emergencies', 'emerging', 'emirates', 'enables', 'encephalitis', 'endoplasmic', 'endothelial', 'enhanced', 'enhances', 'enrichment', 'enterovirus', 'entry', 'envelope', 'environment', 'enzyme', 'epidemic', 'epidemiology', 'epitope', 'equine', 'es2', 'escherichia', 'essential', 'evaluation', 'evolution', 'evolutionarily', 'excessive', 'expansion', 'experience', 'expressing', 'expression', 'expressional', 'extent', 'extracellular', 'extraordinary', 'fabrication', 'factors', 'failure', 'father', 'fbps', 'fc', 'fecal', 'ferrets', 'fibronectin', 'fibrosis', 'fidelity', 'field', 'fighter', 'first', 'flood', 'follow', 'following', 'foot', 'for', 'forms', 'formula', 'four', 'frameshifting', 'from', 'full', 'fulminant', 'function', 'functional', 'functions', 'fusion', 'g0', 'g1', 'g14', 'g3', 'ganglia', 'gas', 'gastric', 'gastroenteritis', 'gastrointestinal', 'gc', 'gd', 'gene', 'general', 'generated', 'generation', 'genes', 'genetic', 'genome', 'genomic', 'genotype', 'genotyping', 'gii', 'glucosyltransferase', 'glycoprotein', 'glycyrrhetinic', 'glycyrrhizin', 'gn', 'gnotobiotic', 'golgi', 'gondii', 'gram', 'graphene', 'green', 'group', 'growing', 'growth', 'gu', 'guidance', 'gut', 'guyana', 'h1n1', 'h5n1', 'h7n9', 'ha', 'hairpin', 'has', 'hbv', 'health', 'healthcare', 'hearing', 'heat', 'hela', 'hemagglutinin', 'hepatic', 'hepatitis', 'hepatocyte', 'heptad', 'herpes', 'heterogeneous', 'heteropolytungstate', 'heterosubtypic', 'high', 'higher', 'highly', 'histoplasma', 'hiv', 'hku4', 'horses', 'hospitalized', 'host', 'hsv', 'hubei', 'human', 'humanized', 'hunan', 'huo', 'hydrogen', 'hydrophobic', 'hyper', 'hypothesis', 'identification', 'identified', 'ii', 'iia', 'ill', 'illnesses', 'immune', 'immunization', 'immunogenicity', 'immunological', 'immunosorbent', 'immunosuppressive', 'implications', 'imported', 'improves', 'in', 'inactivated', 'inactivating', 'increased', 'independent', 'indirect', 'induce', 'induced', 'induces', 'induction', 'infect', 'infected', 'infecting', 'infection', 'infections', 'infectious', 'inflammation', 'influence', 'influenza', 'inhibited', 'inhibiting', 'inhibition', 'inhibitor', 'inhibitors', 'inhibits', 'injury', 'innate', 'inositol', 'ins29', 'insectivorous', 'insulated', 'integrated', 'interactions', 'interactome', 'interfering', 'interferon', 'interleukin', 'internalization', 'interpretation', 'intracellular', 'intrasplenic', 'intrinsic', 'invasion', 'ion', 'ire1', 'ire1α', 'is', 'ischemia', 'isolate', 'isolated', 'isolates', 'isolation', 'isothermal', 'its', 'janus', 'japanese', 'jia', 'jnk', 'key', 'kinase', 'kingdom', 'labeled', 'labeling', 'laboratories', 'laboratory', 'lack', 'lactamase', 'language', 'leader', 'leads', 'length', 'lesions', 'lessons', 'lien', 'like', 'lineage', 'linkage', 'linked', 'lipid', 'lipopolysaccharide', 'live', 'lmpg', 'local', 'localization', 'loop', 'loss', 'lung', 'macaques', 'macrophage', 'main', 'mainland', 'mammalian', 'management', 'managing', 'many', 'map', 'mapk', 'marc', 'matthews', 'mechanism', 'mechanisms', 'median', 'mediated', 'membrane', 'membranous', 'memory', 'mers', 'metabolism', 'metabolite', 'metagenomic', 'metagenomics', 'metallo', 'metapneumovirus', 'metapneumoviruses', 'method', 'methods', 'mf59', 'mice', 'micelles', 'microarray', 'microarrays', 'microbiology', 'microcirculation', 'microglia', 'microtubules', 'middle', 'mildly', 'milk', 'mimivirus', 'mining', 'mitochondrial', 'mode', 'model', 'modified', 'modulating', 'molecular', 'molecule', 'monkeys', 'monoclonal', 'monotreme', 'mosaic', 'motif', 'mouth', 'moving', 'mucosal', 'multi', 'multienzyme', 'multimerization', 'multiple', 'multiplex', 'mutant', 'mutants', 'mutation', 'mutations', 'nanobody', 'nanoparticle', 'nanoparticles', 'nanoshells', 'natural', 'nectin', 'neonatal', 'netncsp', 'neuraminidase', 'neurologic', 'neurons', 'neurotropic', 'neutralising', 'neutralization', 'neutralizing', 'neutrophil', 'new', 'newcastle', 'news', 'next', 'nf', 'niger', 'nipah', 'nl', 'non', 'nonoverlapping', 'nonstructural', 'norovirus', 'north', 'not', 'notoginsenoside', 'novel', 'ns', 'nsp1β', 'nsp2', 'nuclear', 'nucleocapsid', 'of', 'oleanolic', 'oligosaccharides', 'olivaceus', 'on', 'one', 'online', 'opme', 'opposite', 'optimized', 'or', 'organ', 'organization', 'origin', 'origins', 'oseltamivir', 'other', 'outbreaks', 'outcome', 'outcomes', 'over', 'oxide', 'p38', 'pages', 'pallidum', 'pams', 'pandemic', 'panel', 'paralichthys', 'paramyxovirus', 'paramyxoviruses', 'paraquat', 'particle', 'partly', 'patch', 'pathogenesis', 'pathogenic', 'pathogenicity', 'pathotypic', 'pathway', 'pathways', 'patient', 'patients', 'pattern', 'pcr', 'pdk1', 'pentameric', 'people', 'peptide', 'pharmacology', 'phlebovirus', 'phosphorylation', 'phylogenetic', 'pigeon', 'pigeons', 'pigs', 'pilot', 'pipeline', 'plague', 'plasmid', 'plasmonic', 'pneumonia', 'polarization', 'poly', 'polymerase', 'polysaccharides', 'polyvalent', 'porcine', 'positive', 'post', 'pot', 'potential', 'practical', 'predominance', 'prefix', 'pregnancy', 'pregnane', 'preparation', 'pressure', 'prevalence', 'prevention', 'primate', 'production', 'profile', 'profiling', 'programmed', 'progression', 'proliferation', 'promising', 'promote', 'promotes', 'properties', 'prophylaxis', 'prospects', 'prostate', 'protect', 'protections', 'protective', 'protein', 'proteins', 'proteomic', 'proteomics', 'proximal', 'pseudotyped', 'public', 'pulmonary', 'purification', 'pyrosequencing', 'qi', 'qpcr', 'quantitative', 'quantum', 'quarantined', 'r1', 'range', 'rapid', 'rash', 'rat', 'rats', 'reaction', 'reactive', 'real', 'receptor', 'recognition', 'recombinant', 'recovered', 'recovery', 'reduce', 'region', 'regions', 'regulated', 'related', 'renal', 'reovirus', 'repeat', 'reperfusion', 'replication', 'reports', 'reproductive', 'republic', 'requiring', 'resistance', 'resistant', 'respiratory', 'response', 'responses', 'reticulum', 'retroviruses', 'reveal', 'reveals', 'reverse', 'revertant', 'rhinovirus', 'ribosomal', 'ribosomes', 'rich', 'ridge', 'rise', 'risk', 'riyadh', 'rna', 'rnas', 'rnase', 'role', 'roles', 'root', 'ros', 'rotaviruses', 'route', 'routes', 'rt', 'safety', 'samples', 'sargassum', 'sars', 'satellite', 'saudi', 'scale', 'scavenger', 'schiff', 'school', 'scope', 'screening', 'season', 'seco', 'secretion', 'sectional', 'selected', 'self', 'sensitive', 'sentiment', 'sequence', 'sequences', 'sequencing', 'sequential', 'series', 'serum', 'severe', 'shaped', 'shapes', 'shock', 'short', 'show', 'shutoff', 'sialic', 'sialosides', 'signal', 'signaling', 'silico', 'silver', 'simarteriviruses', 'simplex', 'simultaneous', 'simultaneously', 'simvastatin', 'single', 'site', 'skin', 'small', 'social', 'soluble', 'south', 'spatial', 'species', 'specific', 'specimens', 'spike', 'spores', 'st', 'stage', 'states', 'stem', 'step', 'steroids', 'stimulated', 'sting', 'strains', 'strand', 'strategy', 'streptococcus', 'stress', 'structural', 'structure', 'structures', 'study', 'subgenomic', 'subjects', 'substituted', 'substrate', 'subtilis', 'subunit', 'suckling', 'suffering', 'suggests', 'suis', 'sulfate', 'sulfide', 'support', 'supported', 'suppression', 'surfaces', 'surveillance', 'susceptibility', 'swine', 'syncytial', 'syndrome', 'synthesis', 'synthesize', 'system', 'systemic', 'systems', 'tanshinone', 'taqman', 'target', 'targeted', 'targeting', 'targets', 'taxonomic', 'teh', 'temperature', 'temporal', 'tests', 'th2', 'than', 'that', 'the', 'their', 'through', 'time', 'titanium', 'tlr', 'tlr3', 'to', 'tobacco', 'toll', 'toronto', 'toxoplasma', 'tracing', 'tracking', 'tract', 'trade', 'transactivation', 'transcription', 'transduction', 'transfer', 'translation', 'transmembrane', 'transmissible', 'transmission', 'transsynaptic', 'traps', 'traumatic', 'treatment', 'trim22', 'tuberculosis', 'tumor', 'twelve', 'two', 'type', 'ultrastructural', 'uncoating', 'uncovers', 'unexplained', 'unique', 'united', 'universal', 'unraveled', 'untranslated', 'up', 'upper', 'urban', 'usage', 'using', 'usp9x', 'vaccination', 'vaccine', 'vaccines', 'vaccinia', 'var', 'variable', 'variation', 'variations', 'vero', 'via', 'vip', 'viral', 'virions', 'viroporins', 'virulence', 'virus', 'viruses', 'vitro', 'voids', 'web', 'western', 'wide', 'wind', 'with', 'without', 'women', 'workers', 'wu', 'xbp1', 'xiang', 'year', 'years', 'zheng', 'zika', 'κb', 'μ1', 'σ1']\n",
      "(176, 1022)\n"
     ]
    }
   ],
   "source": [
    "from sklearn.feature_extraction.text import TfidfVectorizer\n",
    "\n",
    "vectorizer = TfidfVectorizer()\n",
    "X = vectorizer.fit_transform(corpus)\n",
    "print(vectorizer.get_feature_names())\n",
    "print(X.shape)"
   ]
  },
  {
   "cell_type": "code",
   "execution_count": 20,
   "metadata": {},
   "outputs": [
    {
     "name": "stdout",
     "output_type": "stream",
     "text": [
      "\n",
      "Topics in NMF model (Frobenius norm):\n",
      "\n",
      "Topic #0: reproductive porcine syndrome virus respiratory and of proteins by replication \n",
      "\n",
      "Topic #1: cov sars genome the of mers complete and organization isolates \n",
      "\n",
      "Topic #2: in with china of respiratory viruses and disease children acute \n",
      "\n",
      "Topic #3: detection for novel pcr sensitive of diarrhea epidemic rapid virus \n",
      "\n",
      "Topic #4: protein nucleocapsid the of coronavirus sars interactions multimerization membrane analysis \n",
      "\n"
     ]
    }
   ],
   "source": [
    "n_components =5\n",
    "n_top_words = 10\n",
    "\n",
    "def print_top_words(model, feature_names, n_top_words):\n",
    "    for topic_idx, topic in enumerate(model.components_):\n",
    "        message = \"Topic #%d: \" % topic_idx\n",
    "        message += \" \".join([feature_names[i] for i in topic.argsort()[:-n_top_words - 1:-1]])\n",
    "        print(message, \"\\n\")\n",
    "\n",
    "\n",
    "from sklearn.decomposition import NMF\n",
    "nmf = NMF(n_components=n_components, random_state=1, alpha=.1, l1_ratio=.5).fit(X)\n",
    "\n",
    "print(\"\\nTopics in NMF model (Frobenius norm):\\n\")\n",
    "tfidf_feature_names = vectorizer.get_feature_names()\n",
    "print_top_words(nmf, tfidf_feature_names, n_top_words)"
   ]
  },
  {
   "cell_type": "code",
   "execution_count": null,
   "metadata": {},
   "outputs": [],
   "source": [
    "### "
   ]
  }
 ],
 "metadata": {
  "kernelspec": {
   "display_name": "Python 3",
   "language": "python",
   "name": "python3"
  },
  "language_info": {
   "codemirror_mode": {
    "name": "ipython",
    "version": 3
   },
   "file_extension": ".py",
   "mimetype": "text/x-python",
   "name": "python",
   "nbconvert_exporter": "python",
   "pygments_lexer": "ipython3",
   "version": "3.8.1"
  }
 },
 "nbformat": 4,
 "nbformat_minor": 4
}
