{
 "cells": [
  {
   "cell_type": "code",
   "execution_count": 1,
   "metadata": {},
   "outputs": [],
   "source": [
    "def read_textual_file(file_path):\n",
    "    \"\"\"\n",
    "    Read file at the file_path location into string (python str type)\n",
    "    \"\"\"\n",
    "    with open(file_path) as f:\n",
    "        text = f.read()\n",
    "    if isinstance(text, bytes):\n",
    "        text = text.decode('utf-8')\n",
    "        \n",
    "    return text"
   ]
  },
  {
   "cell_type": "code",
   "execution_count": 3,
   "metadata": {},
   "outputs": [],
   "source": [
    "import pandas as pd\n",
    "\n",
    "def detail_csv_file(file_path, **kwargs):\n",
    "    df = pd.read_csv(file_path, kwargs)\n",
    "    \n",
    "    print(\"DataFrame Size: {}\".format(df.shape))\n",
    "    print(\"DataFrame Columns: {}\".format(df.columns))\n",
    "    \n",
    "    return df.head()"
   ]
  },
  {
   "cell_type": "code",
   "execution_count": null,
   "metadata": {},
   "outputs": [],
   "source": []
  }
 ],
 "metadata": {
  "kernelspec": {
   "display_name": "Python 3",
   "language": "python",
   "name": "python3"
  },
  "language_info": {
   "codemirror_mode": {
    "name": "ipython",
    "version": 3
   },
   "file_extension": ".py",
   "mimetype": "text/x-python",
   "name": "python",
   "nbconvert_exporter": "python",
   "pygments_lexer": "ipython3",
   "version": "3.8.1"
  }
 },
 "nbformat": 4,
 "nbformat_minor": 4
}
